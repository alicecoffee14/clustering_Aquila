{
 "cells": [
  {
   "cell_type": "markdown",
   "metadata": {},
   "source": [
    "# Part I : Quel(le) data scientist êtes-vous ?\n",
    "## Contexte de l’analyse\n",
    "\n",
    "Elu métier le plus sexy par la Harvard Business Review en octobre 2012, le data scientist représente un profil rare qui exige de nombreuses compétences.\n",
    "\n",
    "A partir d'un dataset Aquila, vous réaliserez :\n",
    "- un clustering non supervisé afin d'identifier 2 groupes de profils techniques distinctes\n",
    "- une prédiction des profils dont le métier n'est pas labellisé\n",
    "\n",
    "\n",
    "## Données\n",
    "data.csv contient 6 variables : \n",
    "    - 'Entreprise' correspond à une liste d'entreprises fictive\n",
    "    - 'Metier' correspond au métier parmi data scientist, lead data scientist, data engineer et data architecte\n",
    "    - 'Technologies' correspond aux compétences maîtrisées par le profil\n",
    "    - 'Diplome' correspond à son niveau scolaire (Bac, Master, PhD,...)\n",
    "    - 'Experience' correspond au nombre d'années d'expériences\n",
    "    - 'Ville' correspond au lieu de travail\n",
    "    \n",
    "\n",
    "\n",
    "## Répondez aux questions \n",
    "\n",
    "Bonne chance!"
   ]
  },
  {
   "cell_type": "code",
   "execution_count": 719,
   "metadata": {},
   "outputs": [],
   "source": [
    "# Import des libraries classique (numpy, pandas, ...)\n",
    "import pandas as pd\n",
    "import numpy as np\n",
    "import re\n",
    "import sklearn as sk\n",
    "import seaborn as sb\n",
    "from matplotlib import pyplot as plt\n",
    "plt.style.use('ggplot')"
   ]
  },
  {
   "cell_type": "markdown",
   "metadata": {},
   "source": [
    "### 1) Importer le tableau de données dans un dataframe "
   ]
  },
  {
   "cell_type": "code",
   "execution_count": 720,
   "metadata": {},
   "outputs": [
    {
     "data": {
      "text/html": [
       "<div>\n",
       "<style scoped>\n",
       "    .dataframe tbody tr th:only-of-type {\n",
       "        vertical-align: middle;\n",
       "    }\n",
       "\n",
       "    .dataframe tbody tr th {\n",
       "        vertical-align: top;\n",
       "    }\n",
       "\n",
       "    .dataframe thead th {\n",
       "        text-align: right;\n",
       "    }\n",
       "</style>\n",
       "<table border=\"1\" class=\"dataframe\">\n",
       "  <thead>\n",
       "    <tr style=\"text-align: right;\">\n",
       "      <th></th>\n",
       "      <th>Entreprise</th>\n",
       "      <th>Metier</th>\n",
       "      <th>Technologies</th>\n",
       "      <th>Diplome</th>\n",
       "      <th>Experience</th>\n",
       "      <th>Ville</th>\n",
       "    </tr>\n",
       "  </thead>\n",
       "  <tbody>\n",
       "    <tr>\n",
       "      <th>0</th>\n",
       "      <td>Sanofi</td>\n",
       "      <td>Data scientist</td>\n",
       "      <td>Matlab/Python/Pyspark/Scikit-learn/Tensorflow</td>\n",
       "      <td>Master</td>\n",
       "      <td>1.0</td>\n",
       "      <td>Paris</td>\n",
       "    </tr>\n",
       "    <tr>\n",
       "      <th>1</th>\n",
       "      <td>Massachusetts General Hospital(MGH)</td>\n",
       "      <td>Data architecte</td>\n",
       "      <td>Python/Java/Scala/MongoDB</td>\n",
       "      <td>Master</td>\n",
       "      <td>3.0</td>\n",
       "      <td>Marseille</td>\n",
       "    </tr>\n",
       "    <tr>\n",
       "      <th>2</th>\n",
       "      <td>Delve</td>\n",
       "      <td>Lead data scientist</td>\n",
       "      <td>SPSS/SQL/Teradata/R/Python/Tensorflow/scikit-l...</td>\n",
       "      <td>Master</td>\n",
       "      <td>3.0</td>\n",
       "      <td>Nantes</td>\n",
       "    </tr>\n",
       "    <tr>\n",
       "      <th>3</th>\n",
       "      <td>Ann &amp; Robert H. Lurie Children’s Hospital of C...</td>\n",
       "      <td>Data scientist</td>\n",
       "      <td>C/C++/Java/Python</td>\n",
       "      <td>Master</td>\n",
       "      <td>1.5</td>\n",
       "      <td>Marseille</td>\n",
       "    </tr>\n",
       "    <tr>\n",
       "      <th>4</th>\n",
       "      <td>Arm</td>\n",
       "      <td>Data scientist</td>\n",
       "      <td>Matlab/Python/C++/numpy/Tensorflow/scikit-learn</td>\n",
       "      <td>Phd</td>\n",
       "      <td>NaN</td>\n",
       "      <td>Bordeaux</td>\n",
       "    </tr>\n",
       "  </tbody>\n",
       "</table>\n",
       "</div>"
      ],
      "text/plain": [
       "                                          Entreprise               Metier  \\\n",
       "0                                             Sanofi       Data scientist   \n",
       "1                Massachusetts General Hospital(MGH)      Data architecte   \n",
       "2                                              Delve  Lead data scientist   \n",
       "3  Ann & Robert H. Lurie Children’s Hospital of C...       Data scientist   \n",
       "4                                                Arm       Data scientist   \n",
       "\n",
       "                                        Technologies Diplome  Experience  \\\n",
       "0      Matlab/Python/Pyspark/Scikit-learn/Tensorflow  Master         1.0   \n",
       "1                          Python/Java/Scala/MongoDB  Master         3.0   \n",
       "2  SPSS/SQL/Teradata/R/Python/Tensorflow/scikit-l...  Master         3.0   \n",
       "3                                  C/C++/Java/Python  Master         1.5   \n",
       "4    Matlab/Python/C++/numpy/Tensorflow/scikit-learn     Phd         NaN   \n",
       "\n",
       "       Ville  \n",
       "0      Paris  \n",
       "1  Marseille  \n",
       "2     Nantes  \n",
       "3  Marseille  \n",
       "4   Bordeaux  "
      ]
     },
     "execution_count": 720,
     "metadata": {},
     "output_type": "execute_result"
    }
   ],
   "source": [
    "# Import du dataframe \"data.csv\"\n",
    "df = pd.read_csv(\"data.csv\", decimal=\",\", dtype = {\"Enterprise\": \"str\",\"Metier\": \"str\",\"Technologies\": \"str\", \n",
    "                                                   \"Diplome\" : \"str\",\"Experience\"  : \"float\", \"Ville\" : \"str\"})\n",
    "df.head()"
   ]
  },
  {
   "cell_type": "markdown",
   "metadata": {},
   "source": [
    "### 2) Combien y a t-il d'observations dans ce dataset? Y a t-il des valeurs manquantes? "
   ]
  },
  {
   "cell_type": "code",
   "execution_count": 721,
   "metadata": {},
   "outputs": [
    {
     "name": "stdout",
     "output_type": "stream",
     "text": [
      "Nombre d'observations dans le dataset:  9582\n",
      "Nombre des valeurs manquantes pour chanque variable:\n",
      "Entreprise      17\n",
      "Metier          19\n",
      "Technologies     0\n",
      "Diplome          0\n",
      "Experience      94\n",
      "Ville            0\n",
      "dtype: int64\n",
      "Nombre total des valeurs manquantes:  130\n"
     ]
    }
   ],
   "source": [
    "print(\"Nombre d'observations dans le dataset: \",df.shape[0])\n",
    "print(\"Nombre des valeurs manquantes pour chanque variable:\")\n",
    "print(df.isnull().sum())\n",
    "print(\"Nombre total des valeurs manquantes: \", df.isnull().sum().sum())"
   ]
  },
  {
   "cell_type": "markdown",
   "metadata": {},
   "source": [
    "### 3) Réaliser l'imputation des valeurs manquantes pour la variable \"Experience\" avec : \n",
    "- la valeur médiane pour les data scientists\n",
    "- la valeur moyenne pour les data engineers"
   ]
  },
  {
   "cell_type": "code",
   "execution_count": 722,
   "metadata": {
    "scrolled": true
   },
   "outputs": [
    {
     "name": "stdout",
     "output_type": "stream",
     "text": [
      "Experience: valeur médiane pour les data scientists =  2.0\n",
      "Experience: valeur moyenne pour les data engineers =  2.98\n"
     ]
    }
   ],
   "source": [
    "# calculer la valeur median de la variable Experience pour data scientists\n",
    "median_experience_datascientist = df.Experience[df.Metier == \"Data scientist\"].median()\n",
    "print(\"Experience: valeur médiane pour les data scientists = \",median_experience_datascientist)\n",
    "\n",
    "# calculer la valeur moyenne de la variable Experience pour data engineers\n",
    "mean_experience_dataengineer = df.Experience[df.Metier == \"Data engineer\"].mean()\n",
    "# approximation à deux chiffres pour simplicité\n",
    "mean_experience_dataengineer = round(mean_experience_dataengineer, 2)\n",
    "print(\"Experience: valeur moyenne pour les data engineers = \", mean_experience_dataengineer)\n",
    "\n",
    "# Imputation de valeur médiane pour Experience si metier est data scientist\n",
    "df.loc[ (df['Metier'] == \"Data scientist\") & (df['Experience'].isna()), 'Experience'] = median_experience_datascientist\n",
    "# Imputation de valeur moyenne pour Experience si metier est data engineer\n",
    "df.loc[ (df['Metier'] == \"Data engineer\") & (df['Experience'].isna()), 'Experience'] = mean_experience_dataengineer\n"
   ]
  },
  {
   "cell_type": "markdown",
   "metadata": {},
   "source": [
    "### 4) Combien d'années d'expériences ont, en moyenne, chacun des profils : le data scientist, le lead data scientist et le data engineer en moyenne?"
   ]
  },
  {
   "cell_type": "code",
   "execution_count": 723,
   "metadata": {},
   "outputs": [
    {
     "name": "stdout",
     "output_type": "stream",
     "text": [
      "Moyenne d'années d'expériences pour chaque Metier\n",
      "Data architecte        3.00\n",
      "Data engineer          2.98\n",
      "Data scientist         2.24\n",
      "Lead data scientist    3.97\n",
      "Name: Experience, dtype: float64\n"
     ]
    }
   ],
   "source": [
    "mean_experience_pour_metier = round(df.groupby(\"Metier\")[\"Experience\"].mean(),2)\n",
    "print(\"Moyenne d'années d'expériences pour chaque\", mean_experience_pour_metier)"
   ]
  },
  {
   "cell_type": "markdown",
   "metadata": {},
   "source": [
    "### 5) Faire la représentation graphique de votre choix afin de comparer le nombre moyen d'années d'expériences pour chaque métier"
   ]
  },
  {
   "cell_type": "code",
   "execution_count": 724,
   "metadata": {},
   "outputs": [
    {
     "data": {
      "image/png": "[encoded data removed]",
      "text/plain": [
       "<Figure size 432x288 with 1 Axes>"
      ]
     },
     "metadata": {},
     "output_type": "display_data"
    }
   ],
   "source": [
    "# histogramme à barres\n",
    "plt.style.use('ggplot')\n",
    "mean_experience_pour_metier.plot.barh(title = \"Moyenne d'années d'expériences pour chaque métier \\n\", \n",
    "                                      legend = False, color ='maroon', width = 0.4)\n",
    "plt.ylabel(\"Type de Metier\")\n",
    "plt.xlabel(\"Experience moyenne [années]\")\n",
    "plt.show()"
   ]
  },
  {
   "cell_type": "markdown",
   "metadata": {},
   "source": [
    "### 6) Transformer la variable continue 'Experience' en une nouvelle variable catégorielle 'Exp_label' à 4 modalités: débutant, confirmé, avancé et expert\n",
    "- Veuillez expliquer votre choix du règle de transformation. \n",
    "\n",
    "Pour répondre à cette question je vais faire une petite étude sur le données et leur distribution.\n",
    "La première hypothèse est que la variable ‘Experience’ n’inclut pas les années des formations et donc il n’a pas une corrélation avec le diplôme obtenu. On peut le vérifier avec un histogramme qui montre l’expérience moyenne en fonction du diplôme. \n",
    "Les profils sans diplôme ont plus années d’expérience si comparé avec les docteurs : ça peut être justifié par le fait que les personnes qui n’ont pas étudié ont commencé plus tôt à travailler et ont obtenu plus années total de travail si comparé à des profils qui ont dédié des années à la formation. On décide quand même de donner de valeur au diplôma et l’inclure dans la variable ‘Exp_label’ en cette manière :\n",
    "-\tCréer une variable numérique à partir des années d’expérience\n",
    "-\tAjouter 3 années si le diplôme est un PhD : le doctorat est une vraie expérience professionnelle   \n",
    "-\tAjouter 0.5 années d’expérience si le diplôme est un Master : normalement à la fin d’un Master il y a un stage qui donne approx 6 mois d’expérience professionnelle \n",
    "-\tAjouter 0.25 années d’expérience si le diplôme est un Bachelor : normalement à la fin d’un Bachelor il y a un stage qui donne approx 3 mois d’expérience professionnelle \n"
   ]
  },
  {
   "cell_type": "code",
   "execution_count": 725,
   "metadata": {},
   "outputs": [
    {
     "data": {
      "image/png": "[encoded data removed]",
      "text/plain": [
       "<Figure size 432x288 with 1 Axes>"
      ]
     },
     "metadata": {},
     "output_type": "display_data"
    }
   ],
   "source": [
    "# Illustration graphique de l'experience moyenne en function du diplome obtenu\n",
    "mean_experience_pour_diplome = df.groupby([\"Diplome\"])[\"Experience\"].mean()\n",
    "mean_experience_pour_diplome.plot(kind='barh',x='Diplome',y='Experience', legend=False)\n",
    "plt.ylabel(\"Type de Diplome\")\n",
    "plt.xlabel(\"Experience moyenne [années]\")\n",
    "plt.show()"
   ]
  },
  {
   "cell_type": "code",
   "execution_count": 726,
   "metadata": {},
   "outputs": [
    {
     "data": {
      "text/html": [
       "<div>\n",
       "<style scoped>\n",
       "    .dataframe tbody tr th:only-of-type {\n",
       "        vertical-align: middle;\n",
       "    }\n",
       "\n",
       "    .dataframe tbody tr th {\n",
       "        vertical-align: top;\n",
       "    }\n",
       "\n",
       "    .dataframe thead th {\n",
       "        text-align: right;\n",
       "    }\n",
       "</style>\n",
       "<table border=\"1\" class=\"dataframe\">\n",
       "  <thead>\n",
       "    <tr style=\"text-align: right;\">\n",
       "      <th></th>\n",
       "      <th>Entreprise</th>\n",
       "      <th>Metier</th>\n",
       "      <th>Technologies</th>\n",
       "      <th>Diplome</th>\n",
       "      <th>Experience</th>\n",
       "      <th>Ville</th>\n",
       "      <th>Exp_adjust</th>\n",
       "    </tr>\n",
       "  </thead>\n",
       "  <tbody>\n",
       "    <tr>\n",
       "      <th>0</th>\n",
       "      <td>Sanofi</td>\n",
       "      <td>Data scientist</td>\n",
       "      <td>Matlab/Python/Pyspark/Scikit-learn/Tensorflow</td>\n",
       "      <td>Master</td>\n",
       "      <td>1.0</td>\n",
       "      <td>Paris</td>\n",
       "      <td>1.5</td>\n",
       "    </tr>\n",
       "    <tr>\n",
       "      <th>1</th>\n",
       "      <td>Massachusetts General Hospital(MGH)</td>\n",
       "      <td>Data architecte</td>\n",
       "      <td>Python/Java/Scala/MongoDB</td>\n",
       "      <td>Master</td>\n",
       "      <td>3.0</td>\n",
       "      <td>Marseille</td>\n",
       "      <td>3.5</td>\n",
       "    </tr>\n",
       "    <tr>\n",
       "      <th>2</th>\n",
       "      <td>Delve</td>\n",
       "      <td>Lead data scientist</td>\n",
       "      <td>SPSS/SQL/Teradata/R/Python/Tensorflow/scikit-l...</td>\n",
       "      <td>Master</td>\n",
       "      <td>3.0</td>\n",
       "      <td>Nantes</td>\n",
       "      <td>3.5</td>\n",
       "    </tr>\n",
       "    <tr>\n",
       "      <th>3</th>\n",
       "      <td>Ann &amp; Robert H. Lurie Children’s Hospital of C...</td>\n",
       "      <td>Data scientist</td>\n",
       "      <td>C/C++/Java/Python</td>\n",
       "      <td>Master</td>\n",
       "      <td>1.5</td>\n",
       "      <td>Marseille</td>\n",
       "      <td>2.0</td>\n",
       "    </tr>\n",
       "    <tr>\n",
       "      <th>4</th>\n",
       "      <td>Arm</td>\n",
       "      <td>Data scientist</td>\n",
       "      <td>Matlab/Python/C++/numpy/Tensorflow/scikit-learn</td>\n",
       "      <td>Phd</td>\n",
       "      <td>2.0</td>\n",
       "      <td>Bordeaux</td>\n",
       "      <td>5.0</td>\n",
       "    </tr>\n",
       "  </tbody>\n",
       "</table>\n",
       "</div>"
      ],
      "text/plain": [
       "                                          Entreprise               Metier  \\\n",
       "0                                             Sanofi       Data scientist   \n",
       "1                Massachusetts General Hospital(MGH)      Data architecte   \n",
       "2                                              Delve  Lead data scientist   \n",
       "3  Ann & Robert H. Lurie Children’s Hospital of C...       Data scientist   \n",
       "4                                                Arm       Data scientist   \n",
       "\n",
       "                                        Technologies Diplome  Experience  \\\n",
       "0      Matlab/Python/Pyspark/Scikit-learn/Tensorflow  Master         1.0   \n",
       "1                          Python/Java/Scala/MongoDB  Master         3.0   \n",
       "2  SPSS/SQL/Teradata/R/Python/Tensorflow/scikit-l...  Master         3.0   \n",
       "3                                  C/C++/Java/Python  Master         1.5   \n",
       "4    Matlab/Python/C++/numpy/Tensorflow/scikit-learn     Phd         2.0   \n",
       "\n",
       "       Ville  Exp_adjust  \n",
       "0      Paris         1.5  \n",
       "1  Marseille         3.5  \n",
       "2     Nantes         3.5  \n",
       "3  Marseille         2.0  \n",
       "4   Bordeaux         5.0  "
      ]
     },
     "execution_count": 726,
     "metadata": {},
     "output_type": "execute_result"
    }
   ],
   "source": [
    "# creation d'une nouvelle variable ou ajouter années dependant du diplome\n",
    "df['Exp_adjust'] = df['Experience']\n",
    "df[\"Exp_adjust\"] = np.where(df[\"Diplome\"] == 'Phd' ,      df[\"Exp_adjust\"] + 3,    df[\"Exp_adjust\"])\n",
    "df[\"Exp_adjust\"] = np.where(df[\"Diplome\"] == 'Master' ,   df[\"Exp_adjust\"] + 0.5,  df[\"Exp_adjust\"])\n",
    "df[\"Exp_adjust\"] = np.where(df[\"Diplome\"] == 'Bachelor' , df[\"Exp_adjust\"] + 0.25, df[\"Exp_adjust\"])\n",
    "df.head()"
   ]
  },
  {
   "cell_type": "code",
   "execution_count": 727,
   "metadata": {},
   "outputs": [
    {
     "data": {
      "image/png": "[encoded data removed]",
      "text/plain": [
       "<Figure size 432x288 with 1 Axes>"
      ]
     },
     "metadata": {},
     "output_type": "display_data"
    }
   ],
   "source": [
    "# apres modification\n",
    "mean_experience_pour_diplome = df.groupby([\"Diplome\"])[\"Exp_adjust\"].mean()\n",
    "mean_experience_pour_diplome.plot(kind='barh',x='Diplome',y='Exp_adjust', legend=False )\n",
    "plt.ylabel(\"Type de Diplome\")\n",
    "plt.xlabel(\"Experience moyenne adjusté [années]\")\n",
    "plt.show()"
   ]
  },
  {
   "cell_type": "markdown",
   "metadata": {},
   "source": [
    "On peut maintenant établir un critère pour définir des valeurs en termes de nombre d’années, utilisant la nouvelle variable ‘Exp_adjust’, pour séparer les populations : {débutant, confirmé, avancé, expert}. Avec l'aide graphique d'un histogram avec Nombre de profils en fonction de la variable Exp_adjust, on suppose que pour les metiers Data scientist, Data engineer et Data achitecte:\n",
    "-\tLe 15% avec plus d’années d’expérience sont ‘experts’\n",
    "-\tLe quantile entre 65% et 85% son ‘avancés’\n",
    "-\tLe quantile entre 25% et 65% sont ‘confirmés’\n",
    "-\tLe 25% avec moins années d’expérience sont ‘débutants’\n",
    "\n",
    "\n",
    "Pour le métier ‘Lead data scientist’, étant une rôle plus de leadership, on suppose que il n’y a pas de débutants mais seulement {confirmé: 0-20%, avancé 20-65%, expert 65-100%}.\n"
   ]
  },
  {
   "cell_type": "code",
   "execution_count": 728,
   "metadata": {},
   "outputs": [
    {
     "data": {
      "image/png": "[encoded data removed]",
      "text/plain": [
       "<Figure size 432x288 with 1 Axes>"
      ]
     },
     "metadata": {},
     "output_type": "display_data"
    }
   ],
   "source": [
    "# Histogram pour avoir une visione graphique de la distribution\n",
    "plt.hist(df[~df['Exp_adjust'].isnull()].Exp_adjust, bins=50, range=(0, df.Exp_adjust.max()))\n",
    "#plt.hist(df.Exp_adjust, bins=50, range=(0, df.Exp_adjust.max()))\n",
    "plt.ylabel(\"Nombre de profils\")\n",
    "plt.xlabel(\"Experience adjusté [années]\")\n",
    "plt.show()"
   ]
  },
  {
   "cell_type": "code",
   "execution_count": 729,
   "metadata": {},
   "outputs": [
    {
     "name": "stdout",
     "output_type": "stream",
     "text": [
      "confirme    3928\n",
      "expert      1934\n",
      "avance      1874\n",
      "debutant    1846\n",
      "Name: Exp_label, dtype: int64\n"
     ]
    },
    {
     "data": {
      "text/html": [
       "<div>\n",
       "<style scoped>\n",
       "    .dataframe tbody tr th:only-of-type {\n",
       "        vertical-align: middle;\n",
       "    }\n",
       "\n",
       "    .dataframe tbody tr th {\n",
       "        vertical-align: top;\n",
       "    }\n",
       "\n",
       "    .dataframe thead th {\n",
       "        text-align: right;\n",
       "    }\n",
       "</style>\n",
       "<table border=\"1\" class=\"dataframe\">\n",
       "  <thead>\n",
       "    <tr style=\"text-align: right;\">\n",
       "      <th></th>\n",
       "      <th>Entreprise</th>\n",
       "      <th>Metier</th>\n",
       "      <th>Technologies</th>\n",
       "      <th>Diplome</th>\n",
       "      <th>Experience</th>\n",
       "      <th>Ville</th>\n",
       "      <th>Exp_adjust</th>\n",
       "      <th>Exp_label</th>\n",
       "    </tr>\n",
       "  </thead>\n",
       "  <tbody>\n",
       "    <tr>\n",
       "      <th>0</th>\n",
       "      <td>Sanofi</td>\n",
       "      <td>Data scientist</td>\n",
       "      <td>Matlab/Python/Pyspark/Scikit-learn/Tensorflow</td>\n",
       "      <td>Master</td>\n",
       "      <td>1.0</td>\n",
       "      <td>Paris</td>\n",
       "      <td>1.5</td>\n",
       "      <td>debutant</td>\n",
       "    </tr>\n",
       "    <tr>\n",
       "      <th>1</th>\n",
       "      <td>Massachusetts General Hospital(MGH)</td>\n",
       "      <td>Data architecte</td>\n",
       "      <td>Python/Java/Scala/MongoDB</td>\n",
       "      <td>Master</td>\n",
       "      <td>3.0</td>\n",
       "      <td>Marseille</td>\n",
       "      <td>3.5</td>\n",
       "      <td>confirme</td>\n",
       "    </tr>\n",
       "    <tr>\n",
       "      <th>2</th>\n",
       "      <td>Delve</td>\n",
       "      <td>Lead data scientist</td>\n",
       "      <td>SPSS/SQL/Teradata/R/Python/Tensorflow/scikit-l...</td>\n",
       "      <td>Master</td>\n",
       "      <td>3.0</td>\n",
       "      <td>Nantes</td>\n",
       "      <td>3.5</td>\n",
       "      <td>confirme</td>\n",
       "    </tr>\n",
       "    <tr>\n",
       "      <th>3</th>\n",
       "      <td>Ann &amp; Robert H. Lurie Children’s Hospital of C...</td>\n",
       "      <td>Data scientist</td>\n",
       "      <td>C/C++/Java/Python</td>\n",
       "      <td>Master</td>\n",
       "      <td>1.5</td>\n",
       "      <td>Marseille</td>\n",
       "      <td>2.0</td>\n",
       "      <td>confirme</td>\n",
       "    </tr>\n",
       "    <tr>\n",
       "      <th>4</th>\n",
       "      <td>Arm</td>\n",
       "      <td>Data scientist</td>\n",
       "      <td>Matlab/Python/C++/numpy/Tensorflow/scikit-learn</td>\n",
       "      <td>Phd</td>\n",
       "      <td>2.0</td>\n",
       "      <td>Bordeaux</td>\n",
       "      <td>5.0</td>\n",
       "      <td>avance</td>\n",
       "    </tr>\n",
       "  </tbody>\n",
       "</table>\n",
       "</div>"
      ],
      "text/plain": [
       "                                          Entreprise               Metier  \\\n",
       "0                                             Sanofi       Data scientist   \n",
       "1                Massachusetts General Hospital(MGH)      Data architecte   \n",
       "2                                              Delve  Lead data scientist   \n",
       "3  Ann & Robert H. Lurie Children’s Hospital of C...       Data scientist   \n",
       "4                                                Arm       Data scientist   \n",
       "\n",
       "                                        Technologies Diplome  Experience  \\\n",
       "0      Matlab/Python/Pyspark/Scikit-learn/Tensorflow  Master         1.0   \n",
       "1                          Python/Java/Scala/MongoDB  Master         3.0   \n",
       "2  SPSS/SQL/Teradata/R/Python/Tensorflow/scikit-l...  Master         3.0   \n",
       "3                                  C/C++/Java/Python  Master         1.5   \n",
       "4    Matlab/Python/C++/numpy/Tensorflow/scikit-learn     Phd         2.0   \n",
       "\n",
       "       Ville  Exp_adjust Exp_label  \n",
       "0      Paris         1.5  debutant  \n",
       "1  Marseille         3.5  confirme  \n",
       "2     Nantes         3.5  confirme  \n",
       "3  Marseille         2.0  confirme  \n",
       "4   Bordeaux         5.0    avance  "
      ]
     },
     "execution_count": 729,
     "metadata": {},
     "output_type": "execute_result"
    }
   ],
   "source": [
    "# divisions: differentes pour chaque metier\n",
    "\n",
    "df[\"Exp_label\"] = \"debutant\"\n",
    "# quantiles Data scientist\n",
    "p85_DS = df[df['Metier'] == 'Data scientist'].Exp_adjust.quantile(0.85)\n",
    "p65_DS = df[df['Metier'] == 'Data scientist'].Exp_adjust.quantile(0.65)\n",
    "p25_DS = df[df['Metier'] == 'Data scientist'].Exp_adjust.quantile(0.25)\n",
    "\n",
    "# assignation variable\n",
    "df.loc[(df.Exp_adjust >= p25_DS ) & (df['Metier'] == 'Data scientist'), \"Exp_label\"]  = \"confirme\"\n",
    "df.loc[(df.Exp_adjust >= p65_DS ) & (df['Metier'] == 'Data scientist'), \"Exp_label\"]  = \"avance\"\n",
    "df.loc[(df.Exp_adjust >= p85_DS ) & (df['Metier'] == 'Data scientist'), \"Exp_label\"]  = \"expert\"\n",
    "\n",
    "# quantiles Data engineer\n",
    "p85_DE = df[df['Metier'] == 'Data engineer'].Exp_adjust.quantile(0.85)\n",
    "p65_DE = df[df['Metier'] == 'Data engineer'].Exp_adjust.quantile(0.65)\n",
    "p25_DE = df[df['Metier'] == 'Data engineer'].Exp_adjust.quantile(0.25)\n",
    "# assignation variable\n",
    "df.loc[(df.Exp_adjust >= p25_DE ) & (df['Metier'] == 'Data engineer'), \"Exp_label\"]  = \"confirme\"\n",
    "df.loc[(df.Exp_adjust >= p65_DE ) & (df['Metier'] == 'Data engineer'), \"Exp_label\"]  = \"avance\"\n",
    "df.loc[(df.Exp_adjust >= p85_DE ) & (df['Metier'] == 'Data engineer'), \"Exp_label\"]  = \"expert\"\n",
    "\n",
    "# quantiles Data architecte\n",
    "p85_DA = df[df['Metier'] == 'Data architecte'].Exp_adjust.quantile(0.85)\n",
    "p65_DA = df[df['Metier'] == 'Data architecte'].Exp_adjust.quantile(0.65)\n",
    "p25_DA = df[df['Metier'] == 'Data architecte'].Exp_adjust.quantile(0.25)\n",
    "# assignation variable\n",
    "df.loc[(df.Exp_adjust >= p25_DA ) & (df['Metier'] == 'Data architecte'), \"Exp_label\"]  = \"confirme\"\n",
    "df.loc[(df.Exp_adjust >= p65_DA ) & (df['Metier'] == 'Data architecte'), \"Exp_label\"]  = \"avance\"\n",
    "df.loc[(df.Exp_adjust >= p85_DA ) & (df['Metier'] == 'Data architecte'), \"Exp_label\"]  = \"expert\"\n",
    "\n",
    "# quantiles Lead data scientist\n",
    "p65_LDS = df[df['Metier'] == 'Lead data scientist'].Exp_adjust.quantile(0.65)\n",
    "p20_LDS = df[df['Metier'] == 'Lead ata scientist'].Exp_adjust.quantile(0.20)\n",
    "\n",
    "# assignation variable\n",
    "df.loc[(df[\"Metier\"] == 'Lead data scientist'), \"Exp_label\"]  = \"confirme\"\n",
    "df.loc[(df.Exp_adjust >= p20_LDS ) & (df['Metier'] == 'Lead data scientist'), \"Exp_label\"]  = \"avance\"\n",
    "df.loc[(df.Exp_adjust >= p65_LDS ) & (df['Metier'] == 'Lead data scientist'), \"Exp_label\"]  = \"expert\"\n",
    "\n",
    "print(df.Exp_label.value_counts())\n",
    "df.head()"
   ]
  },
  {
   "cell_type": "markdown",
   "metadata": {},
   "source": [
    "### 7) Quelles sont les 5 technologies les plus utilisées? Faites un graphique"
   ]
  },
  {
   "cell_type": "code",
   "execution_count": 730,
   "metadata": {},
   "outputs": [
    {
     "name": "stdout",
     "output_type": "stream",
     "text": [
      "Les 5 technologies les plus uilisées sont:\n",
      "Python 6627\n",
      "R 4374\n",
      "SQL 2581\n",
      "Java 1719\n",
      "Hadoop 1589\n"
     ]
    }
   ],
   "source": [
    "# creation d'une list qui contiens les 5 technologies les plus utilisées\n",
    "technologies = []\n",
    "for i,row in df.iterrows():\n",
    "    tech = row[\"Technologies\"].split(\"/\")\n",
    "    technologies += tech\n",
    "# creation d'une serie \n",
    "series_tech = pd.Series(technologies)\n",
    "# evaluation de 5 elements les plus frequents \n",
    "top5 = series_tech.value_counts()[0:5]\n",
    "\n",
    "print(\"Les 5 technologies les plus uilisées sont:\", )\n",
    "for index, val in top5.iteritems():\n",
    "       print (index, val)"
   ]
  },
  {
   "cell_type": "code",
   "execution_count": 731,
   "metadata": {},
   "outputs": [
    {
     "data": {
      "image/png": "[encoded data removed]",
      "text/plain": [
       "<Figure size 432x288 with 1 Axes>"
      ]
     },
     "metadata": {},
     "output_type": "display_data"
    }
   ],
   "source": [
    "# Illustration graphique\n",
    "top5.plot.barh(title = \"Les 5 technologies les plus utilisées \\n\", \n",
    "               legend = False, color ='maroon', width = 0.4)\n",
    "plt.ylabel('Technologies')\n",
    "plt.xlabel('Nombre des profiles')\n",
    "plt.show()"
   ]
  },
  {
   "cell_type": "markdown",
   "metadata": {},
   "source": [
    "### 8) Réaliser une méthode de clustering non supervisée de votre choix pour faire apparaître 2 clusters que vous jugerez pertinents. Donnez les caractéristiques de chacun des clusters.\n",
    "-  Justifier la performance de votre algorithme grace à une métrique.\n",
    "-  Interpréter votre resultat.  \n",
    "\n",
    "### Data pre-processing\n",
    "#### Selecion variables\n",
    "Avant d’introduire le modelé de clustering il faut construire un dataframe contenant les features pour la classification. Vu que l’objectif de cet exercice est de déterminer le métier d’un candidat à partir des informations sur ses compétences j’ai décidé de sélectionner et utiliser seulement les variables qui donnent une information pertinente sur les profils métiers à regrouper. Par conséquente j’ai décidé d’exclure la variable « Ville » et la variable « Entreprise » : la première parce que il n’y a pas raison de croire que les profils considérés sont liés à une position géographique specifique, en tous cas toutes les majeures villes de France sont inclues dans la liste. Egalement les data scientist, architectes et engineers peuvent exercer le travail dans entreprises très différentes : en plus la variable « Entreprise » compte un nombre très haut d’exemples (1383) différentes qui peut apporter de la complexité à l’algorithme sans, à mon avis, un pouvoir discriminante significatif.  "
   ]
  },
  {
   "cell_type": "code",
   "execution_count": 732,
   "metadata": {},
   "outputs": [
    {
     "name": "stdout",
     "output_type": "stream",
     "text": [
      "List des villes de France: ['Paris', 'Marseille', 'Nantes', 'Bordeaux', 'Lille', 'Toulouse', 'Rouen', 'Lyon', 'Strasbourg', 'Grenoble', 'Nice', 'Toulon', 'Montpellier', 'Rennes']\n"
     ]
    }
   ],
   "source": [
    "# liste de villes\n",
    "villes = []\n",
    "for i,row in df.iterrows():\n",
    "    if row[\"Ville\"] not in villes:\n",
    "        villes.append(row[\"Ville\"])    \n",
    "print(\"List des villes de France:\", villes)"
   ]
  },
  {
   "cell_type": "code",
   "execution_count": 733,
   "metadata": {},
   "outputs": [
    {
     "name": "stdout",
     "output_type": "stream",
     "text": [
      "Nombre des entreprises considerées: 1383\n"
     ]
    }
   ],
   "source": [
    "# calculer combien d'entreprises sont considerés\n",
    "entreprises = []\n",
    "for i,row in df.iterrows():\n",
    "    if row[\"Entreprise\"] not in entreprises:\n",
    "        entreprises.append(row[\"Entreprise\"])    \n",
    "print(\"Nombre des entreprises considerées:\", len(entreprises))"
   ]
  },
  {
   "cell_type": "markdown",
   "metadata": {},
   "source": [
    "#### Traitement des variables selectionnées\n",
    "\n",
    "#### TECHNOLOGIE\n",
    "Pour la variable Technologie on voit qu’il y a 61 types de technologie différentes. Vu que chaque exemple peut présenter capabilité dans différentes technologies on estime que réduire la dimensionnalité de la variable Technologie pourrait aider à simplifier et rendre plus vite l’implémentation de l’algorithme sans impacter les informations disponibles : plus précisément on peut évaluer quelles sont les technologies plus populaires, on calcule que si on rétien seulement le 20 technologie plus populaire approx 95% des individus ont au moins une de ces 20 technologies. "
   ]
  },
  {
   "cell_type": "code",
   "execution_count": 734,
   "metadata": {},
   "outputs": [
    {
     "name": "stdout",
     "output_type": "stream",
     "text": [
      "List avec les 20 technologies les plus uilisées:\n",
      "['Python', 'R', 'SQL', 'Java', 'Hadoop', 'Excel', 'C++', 'Spark', 'Linux', 'MongoDB', 'VBA', 'machine learning', 'SAS', 'Docker', 'Matlab', 'Hive', 'Tensorflow', 'Elasticsearch', 'Big data', 'C']\n",
      "Percentage des individus avec au moins une de 20 technologie les plus utilisées:  95.0 %\n"
     ]
    }
   ],
   "source": [
    "# trouver le 20 technologies plus populaires\n",
    "top20 = series_tech.value_counts()[0:20]\n",
    "top20 = top20.index.values.tolist()\n",
    "print(\"List avec les 20 technologies les plus uilisées:\", )\n",
    "print(top20)\n",
    "\n",
    "# evaluer le percentage des individus  qui ont au moins une de ces 20 technologies\n",
    "num=0\n",
    "for i,row in df.iterrows():\n",
    "    tech = row[\"Technologies\"].split(\"/\")\n",
    "    common_tech= len(np.intersect1d(top20,tech))\n",
    "    if common_tech > 1:\n",
    "        num = num+1\n",
    "\n",
    "print(\"Percentage des individus avec au moins une de 20 technologie les plus utilisées: \", \n",
    "      round( np.array(num).sum()/len(df),2)*100, \"%\")\n"
   ]
  },
  {
   "cell_type": "markdown",
   "metadata": {},
   "source": [
    " Construir une dataframe avec les technologies selectionnées."
   ]
  },
  {
   "cell_type": "code",
   "execution_count": 735,
   "metadata": {},
   "outputs": [
    {
     "data": {
      "text/html": [
       "<div>\n",
       "<style scoped>\n",
       "    .dataframe tbody tr th:only-of-type {\n",
       "        vertical-align: middle;\n",
       "    }\n",
       "\n",
       "    .dataframe tbody tr th {\n",
       "        vertical-align: top;\n",
       "    }\n",
       "\n",
       "    .dataframe thead th {\n",
       "        text-align: right;\n",
       "    }\n",
       "</style>\n",
       "<table border=\"1\" class=\"dataframe\">\n",
       "  <thead>\n",
       "    <tr style=\"text-align: right;\">\n",
       "      <th></th>\n",
       "      <th>Python</th>\n",
       "      <th>R</th>\n",
       "      <th>SQL</th>\n",
       "      <th>Java</th>\n",
       "      <th>Hadoop</th>\n",
       "      <th>Excel</th>\n",
       "      <th>C++</th>\n",
       "      <th>Spark</th>\n",
       "      <th>Linux</th>\n",
       "      <th>MongoDB</th>\n",
       "      <th>VBA</th>\n",
       "      <th>machine learning</th>\n",
       "      <th>SAS</th>\n",
       "      <th>Docker</th>\n",
       "      <th>Matlab</th>\n",
       "      <th>Hive</th>\n",
       "      <th>Tensorflow</th>\n",
       "      <th>Elasticsearch</th>\n",
       "      <th>Big data</th>\n",
       "      <th>C</th>\n",
       "    </tr>\n",
       "  </thead>\n",
       "  <tbody>\n",
       "    <tr>\n",
       "      <th>0</th>\n",
       "      <td>1</td>\n",
       "      <td>0</td>\n",
       "      <td>0</td>\n",
       "      <td>0</td>\n",
       "      <td>0</td>\n",
       "      <td>0</td>\n",
       "      <td>0</td>\n",
       "      <td>0</td>\n",
       "      <td>0</td>\n",
       "      <td>0</td>\n",
       "      <td>0</td>\n",
       "      <td>0</td>\n",
       "      <td>0</td>\n",
       "      <td>0</td>\n",
       "      <td>1</td>\n",
       "      <td>0</td>\n",
       "      <td>1</td>\n",
       "      <td>0</td>\n",
       "      <td>0</td>\n",
       "      <td>0</td>\n",
       "    </tr>\n",
       "    <tr>\n",
       "      <th>1</th>\n",
       "      <td>1</td>\n",
       "      <td>0</td>\n",
       "      <td>0</td>\n",
       "      <td>1</td>\n",
       "      <td>0</td>\n",
       "      <td>0</td>\n",
       "      <td>0</td>\n",
       "      <td>0</td>\n",
       "      <td>0</td>\n",
       "      <td>1</td>\n",
       "      <td>0</td>\n",
       "      <td>0</td>\n",
       "      <td>0</td>\n",
       "      <td>0</td>\n",
       "      <td>0</td>\n",
       "      <td>0</td>\n",
       "      <td>0</td>\n",
       "      <td>0</td>\n",
       "      <td>0</td>\n",
       "      <td>0</td>\n",
       "    </tr>\n",
       "    <tr>\n",
       "      <th>2</th>\n",
       "      <td>1</td>\n",
       "      <td>1</td>\n",
       "      <td>1</td>\n",
       "      <td>0</td>\n",
       "      <td>0</td>\n",
       "      <td>0</td>\n",
       "      <td>0</td>\n",
       "      <td>0</td>\n",
       "      <td>0</td>\n",
       "      <td>0</td>\n",
       "      <td>0</td>\n",
       "      <td>0</td>\n",
       "      <td>0</td>\n",
       "      <td>0</td>\n",
       "      <td>0</td>\n",
       "      <td>0</td>\n",
       "      <td>1</td>\n",
       "      <td>0</td>\n",
       "      <td>0</td>\n",
       "      <td>0</td>\n",
       "    </tr>\n",
       "    <tr>\n",
       "      <th>3</th>\n",
       "      <td>1</td>\n",
       "      <td>0</td>\n",
       "      <td>0</td>\n",
       "      <td>1</td>\n",
       "      <td>0</td>\n",
       "      <td>0</td>\n",
       "      <td>1</td>\n",
       "      <td>0</td>\n",
       "      <td>0</td>\n",
       "      <td>0</td>\n",
       "      <td>0</td>\n",
       "      <td>0</td>\n",
       "      <td>0</td>\n",
       "      <td>0</td>\n",
       "      <td>0</td>\n",
       "      <td>0</td>\n",
       "      <td>0</td>\n",
       "      <td>0</td>\n",
       "      <td>0</td>\n",
       "      <td>1</td>\n",
       "    </tr>\n",
       "    <tr>\n",
       "      <th>4</th>\n",
       "      <td>1</td>\n",
       "      <td>0</td>\n",
       "      <td>0</td>\n",
       "      <td>0</td>\n",
       "      <td>0</td>\n",
       "      <td>0</td>\n",
       "      <td>1</td>\n",
       "      <td>0</td>\n",
       "      <td>0</td>\n",
       "      <td>0</td>\n",
       "      <td>0</td>\n",
       "      <td>0</td>\n",
       "      <td>0</td>\n",
       "      <td>0</td>\n",
       "      <td>1</td>\n",
       "      <td>0</td>\n",
       "      <td>1</td>\n",
       "      <td>0</td>\n",
       "      <td>0</td>\n",
       "      <td>0</td>\n",
       "    </tr>\n",
       "  </tbody>\n",
       "</table>\n",
       "</div>"
      ],
      "text/plain": [
       "   Python  R  SQL  Java  Hadoop  Excel  C++  Spark  Linux  MongoDB  VBA  \\\n",
       "0       1  0    0     0       0      0    0      0      0        0    0   \n",
       "1       1  0    0     1       0      0    0      0      0        1    0   \n",
       "2       1  1    1     0       0      0    0      0      0        0    0   \n",
       "3       1  0    0     1       0      0    1      0      0        0    0   \n",
       "4       1  0    0     0       0      0    1      0      0        0    0   \n",
       "\n",
       "   machine learning  SAS  Docker  Matlab  Hive  Tensorflow  Elasticsearch  \\\n",
       "0                 0    0       0       1     0           1              0   \n",
       "1                 0    0       0       0     0           0              0   \n",
       "2                 0    0       0       0     0           1              0   \n",
       "3                 0    0       0       0     0           0              0   \n",
       "4                 0    0       0       1     0           1              0   \n",
       "\n",
       "   Big data  C  \n",
       "0         0  0  \n",
       "1         0  0  \n",
       "2         0  0  \n",
       "3         0  1  \n",
       "4         0  0  "
      ]
     },
     "execution_count": 735,
     "metadata": {},
     "output_type": "execute_result"
    }
   ],
   "source": [
    "# creation du dataframe qui contient le technologies\n",
    "df_technologies = pd.DataFrame(columns = top20)\n",
    "\n",
    "for i,row in df.iterrows():\n",
    "    tech = row[\"Technologies\"].split(\"/\")\n",
    "    intersection = np.intersect1d(top20,tech)\n",
    "    solution = (np.in1d(top20, intersection)).astype(int)\n",
    "    df_technologies = df_technologies.append(dict(zip(df_technologies.columns, solution)), ignore_index=True)\n",
    "    \n",
    "df_technologies = df_technologies.astype(int)\n",
    "df_technologies.head()"
   ]
  },
  {
   "cell_type": "markdown",
   "metadata": {},
   "source": [
    "#### EXPERIENCE ET DIPLOME\n",
    "Les deux variables donnent une information sur le niveau d’expérience et le dégrée du diplôme : on veut garder pour ces deux variables des nombres qui donnent une idée de l’ordre. Pour la variable ‘Experience’ on a déjà construit une autre variable ‘Exp_label’ avec 4 niveaux croissantes : cette variable tient compte soit du diplôme soit de la distribution des profils avec différents niveau d’expérience (elle était construite avec une division en quantiles). On décide d’utiliser quand même la variable diplôme pour avoir plus d’informations dans l’algorithme de clustering et pour mieux voir si le diplôme a une influence directe sur les deux clusters finals. \n",
    "Pour les deux variables catégoriques on assigne un nombre croissant entre 0 et 1 pour mantenir l'echelle :\n",
    "-\tPhd : 4/4, Master : 3/4, Bachelor : 2/4, No diploma : 1/4\n",
    "-\tExpert:4/4, Avancé: 3/4, Comfirmé: 2/4, Debutant: 1/4\n"
   ]
  },
  {
   "cell_type": "code",
   "execution_count": 736,
   "metadata": {},
   "outputs": [
    {
     "data": {
      "text/html": [
       "<div>\n",
       "<style scoped>\n",
       "    .dataframe tbody tr th:only-of-type {\n",
       "        vertical-align: middle;\n",
       "    }\n",
       "\n",
       "    .dataframe tbody tr th {\n",
       "        vertical-align: top;\n",
       "    }\n",
       "\n",
       "    .dataframe thead th {\n",
       "        text-align: right;\n",
       "    }\n",
       "</style>\n",
       "<table border=\"1\" class=\"dataframe\">\n",
       "  <thead>\n",
       "    <tr style=\"text-align: right;\">\n",
       "      <th></th>\n",
       "      <th>Exp_label</th>\n",
       "    </tr>\n",
       "  </thead>\n",
       "  <tbody>\n",
       "    <tr>\n",
       "      <th>0</th>\n",
       "      <td>0.25</td>\n",
       "    </tr>\n",
       "    <tr>\n",
       "      <th>1</th>\n",
       "      <td>0.50</td>\n",
       "    </tr>\n",
       "    <tr>\n",
       "      <th>2</th>\n",
       "      <td>0.50</td>\n",
       "    </tr>\n",
       "    <tr>\n",
       "      <th>3</th>\n",
       "      <td>0.50</td>\n",
       "    </tr>\n",
       "    <tr>\n",
       "      <th>4</th>\n",
       "      <td>0.75</td>\n",
       "    </tr>\n",
       "  </tbody>\n",
       "</table>\n",
       "</div>"
      ],
      "text/plain": [
       "   Exp_label\n",
       "0       0.25\n",
       "1       0.50\n",
       "2       0.50\n",
       "3       0.50\n",
       "4       0.75"
      ]
     },
     "execution_count": 736,
     "metadata": {},
     "output_type": "execute_result"
    }
   ],
   "source": [
    "# new dataframe avec experience\n",
    "exp_map = {\"debutant\":1/4, \"confirme\":2/4, \"avance\":3/4, \"expert\":4/4}\n",
    "df_exp_label = df[[\"Exp_label\"]].replace(exp_map)\n",
    "df_exp_label.head()"
   ]
  },
  {
   "cell_type": "code",
   "execution_count": 737,
   "metadata": {},
   "outputs": [
    {
     "data": {
      "text/html": [
       "<div>\n",
       "<style scoped>\n",
       "    .dataframe tbody tr th:only-of-type {\n",
       "        vertical-align: middle;\n",
       "    }\n",
       "\n",
       "    .dataframe tbody tr th {\n",
       "        vertical-align: top;\n",
       "    }\n",
       "\n",
       "    .dataframe thead th {\n",
       "        text-align: right;\n",
       "    }\n",
       "</style>\n",
       "<table border=\"1\" class=\"dataframe\">\n",
       "  <thead>\n",
       "    <tr style=\"text-align: right;\">\n",
       "      <th></th>\n",
       "      <th>Diplome</th>\n",
       "    </tr>\n",
       "  </thead>\n",
       "  <tbody>\n",
       "    <tr>\n",
       "      <th>0</th>\n",
       "      <td>0.75</td>\n",
       "    </tr>\n",
       "    <tr>\n",
       "      <th>1</th>\n",
       "      <td>0.75</td>\n",
       "    </tr>\n",
       "    <tr>\n",
       "      <th>2</th>\n",
       "      <td>0.75</td>\n",
       "    </tr>\n",
       "    <tr>\n",
       "      <th>3</th>\n",
       "      <td>0.75</td>\n",
       "    </tr>\n",
       "    <tr>\n",
       "      <th>4</th>\n",
       "      <td>1.00</td>\n",
       "    </tr>\n",
       "  </tbody>\n",
       "</table>\n",
       "</div>"
      ],
      "text/plain": [
       "   Diplome\n",
       "0     0.75\n",
       "1     0.75\n",
       "2     0.75\n",
       "3     0.75\n",
       "4     1.00"
      ]
     },
     "execution_count": 737,
     "metadata": {},
     "output_type": "execute_result"
    }
   ],
   "source": [
    "# new dataframe avec diplome\n",
    "dipl_map = {\"No diploma\":1/4, \"Bachelor\":2/4, \"Master\":3/4, \"Phd\":4/4}\n",
    "df_diplome = df[[\"Diplome\"]].replace(dipl_map)\n",
    "df_diplome.head()"
   ]
  },
  {
   "cell_type": "markdown",
   "metadata": {},
   "source": [
    "#### METIER\n",
    "Faire une simple conversion des metiers en variables binaires."
   ]
  },
  {
   "cell_type": "code",
   "execution_count": 738,
   "metadata": {},
   "outputs": [
    {
     "data": {
      "text/html": [
       "<div>\n",
       "<style scoped>\n",
       "    .dataframe tbody tr th:only-of-type {\n",
       "        vertical-align: middle;\n",
       "    }\n",
       "\n",
       "    .dataframe tbody tr th {\n",
       "        vertical-align: top;\n",
       "    }\n",
       "\n",
       "    .dataframe thead th {\n",
       "        text-align: right;\n",
       "    }\n",
       "</style>\n",
       "<table border=\"1\" class=\"dataframe\">\n",
       "  <thead>\n",
       "    <tr style=\"text-align: right;\">\n",
       "      <th></th>\n",
       "      <th>Metier_Data architecte</th>\n",
       "      <th>Metier_Data engineer</th>\n",
       "      <th>Metier_Data scientist</th>\n",
       "      <th>Metier_Lead data scientist</th>\n",
       "    </tr>\n",
       "  </thead>\n",
       "  <tbody>\n",
       "    <tr>\n",
       "      <th>0</th>\n",
       "      <td>0</td>\n",
       "      <td>0</td>\n",
       "      <td>1</td>\n",
       "      <td>0</td>\n",
       "    </tr>\n",
       "    <tr>\n",
       "      <th>1</th>\n",
       "      <td>1</td>\n",
       "      <td>0</td>\n",
       "      <td>0</td>\n",
       "      <td>0</td>\n",
       "    </tr>\n",
       "    <tr>\n",
       "      <th>2</th>\n",
       "      <td>0</td>\n",
       "      <td>0</td>\n",
       "      <td>0</td>\n",
       "      <td>1</td>\n",
       "    </tr>\n",
       "    <tr>\n",
       "      <th>3</th>\n",
       "      <td>0</td>\n",
       "      <td>0</td>\n",
       "      <td>1</td>\n",
       "      <td>0</td>\n",
       "    </tr>\n",
       "    <tr>\n",
       "      <th>4</th>\n",
       "      <td>0</td>\n",
       "      <td>0</td>\n",
       "      <td>1</td>\n",
       "      <td>0</td>\n",
       "    </tr>\n",
       "  </tbody>\n",
       "</table>\n",
       "</div>"
      ],
      "text/plain": [
       "   Metier_Data architecte  Metier_Data engineer  Metier_Data scientist  \\\n",
       "0                       0                     0                      1   \n",
       "1                       1                     0                      0   \n",
       "2                       0                     0                      0   \n",
       "3                       0                     0                      1   \n",
       "4                       0                     0                      1   \n",
       "\n",
       "   Metier_Lead data scientist  \n",
       "0                           0  \n",
       "1                           0  \n",
       "2                           1  \n",
       "3                           0  \n",
       "4                           0  "
      ]
     },
     "execution_count": 738,
     "metadata": {},
     "output_type": "execute_result"
    }
   ],
   "source": [
    "# new dataframe avec metiers\n",
    "df_metier = pd.get_dummies(df[[\"Metier\"]])\n",
    "df_metier.head()"
   ]
  },
  {
   "cell_type": "markdown",
   "metadata": {},
   "source": [
    "Mettre tout ensemble dans un dataframe pour le clustering."
   ]
  },
  {
   "cell_type": "code",
   "execution_count": 739,
   "metadata": {},
   "outputs": [
    {
     "data": {
      "text/html": [
       "<div>\n",
       "<style scoped>\n",
       "    .dataframe tbody tr th:only-of-type {\n",
       "        vertical-align: middle;\n",
       "    }\n",
       "\n",
       "    .dataframe tbody tr th {\n",
       "        vertical-align: top;\n",
       "    }\n",
       "\n",
       "    .dataframe thead th {\n",
       "        text-align: right;\n",
       "    }\n",
       "</style>\n",
       "<table border=\"1\" class=\"dataframe\">\n",
       "  <thead>\n",
       "    <tr style=\"text-align: right;\">\n",
       "      <th></th>\n",
       "      <th>Metier_Data architecte</th>\n",
       "      <th>Metier_Data engineer</th>\n",
       "      <th>Metier_Data scientist</th>\n",
       "      <th>Metier_Lead data scientist</th>\n",
       "      <th>Diplome</th>\n",
       "      <th>Exp_label</th>\n",
       "      <th>Python</th>\n",
       "      <th>R</th>\n",
       "      <th>SQL</th>\n",
       "      <th>Java</th>\n",
       "      <th>...</th>\n",
       "      <th>VBA</th>\n",
       "      <th>machine learning</th>\n",
       "      <th>SAS</th>\n",
       "      <th>Docker</th>\n",
       "      <th>Matlab</th>\n",
       "      <th>Hive</th>\n",
       "      <th>Tensorflow</th>\n",
       "      <th>Elasticsearch</th>\n",
       "      <th>Big data</th>\n",
       "      <th>C</th>\n",
       "    </tr>\n",
       "  </thead>\n",
       "  <tbody>\n",
       "    <tr>\n",
       "      <th>0</th>\n",
       "      <td>0</td>\n",
       "      <td>0</td>\n",
       "      <td>1</td>\n",
       "      <td>0</td>\n",
       "      <td>0.75</td>\n",
       "      <td>0.25</td>\n",
       "      <td>1</td>\n",
       "      <td>0</td>\n",
       "      <td>0</td>\n",
       "      <td>0</td>\n",
       "      <td>...</td>\n",
       "      <td>0</td>\n",
       "      <td>0</td>\n",
       "      <td>0</td>\n",
       "      <td>0</td>\n",
       "      <td>1</td>\n",
       "      <td>0</td>\n",
       "      <td>1</td>\n",
       "      <td>0</td>\n",
       "      <td>0</td>\n",
       "      <td>0</td>\n",
       "    </tr>\n",
       "    <tr>\n",
       "      <th>1</th>\n",
       "      <td>1</td>\n",
       "      <td>0</td>\n",
       "      <td>0</td>\n",
       "      <td>0</td>\n",
       "      <td>0.75</td>\n",
       "      <td>0.50</td>\n",
       "      <td>1</td>\n",
       "      <td>0</td>\n",
       "      <td>0</td>\n",
       "      <td>1</td>\n",
       "      <td>...</td>\n",
       "      <td>0</td>\n",
       "      <td>0</td>\n",
       "      <td>0</td>\n",
       "      <td>0</td>\n",
       "      <td>0</td>\n",
       "      <td>0</td>\n",
       "      <td>0</td>\n",
       "      <td>0</td>\n",
       "      <td>0</td>\n",
       "      <td>0</td>\n",
       "    </tr>\n",
       "    <tr>\n",
       "      <th>2</th>\n",
       "      <td>0</td>\n",
       "      <td>0</td>\n",
       "      <td>0</td>\n",
       "      <td>1</td>\n",
       "      <td>0.75</td>\n",
       "      <td>0.50</td>\n",
       "      <td>1</td>\n",
       "      <td>1</td>\n",
       "      <td>1</td>\n",
       "      <td>0</td>\n",
       "      <td>...</td>\n",
       "      <td>0</td>\n",
       "      <td>0</td>\n",
       "      <td>0</td>\n",
       "      <td>0</td>\n",
       "      <td>0</td>\n",
       "      <td>0</td>\n",
       "      <td>1</td>\n",
       "      <td>0</td>\n",
       "      <td>0</td>\n",
       "      <td>0</td>\n",
       "    </tr>\n",
       "    <tr>\n",
       "      <th>3</th>\n",
       "      <td>0</td>\n",
       "      <td>0</td>\n",
       "      <td>1</td>\n",
       "      <td>0</td>\n",
       "      <td>0.75</td>\n",
       "      <td>0.50</td>\n",
       "      <td>1</td>\n",
       "      <td>0</td>\n",
       "      <td>0</td>\n",
       "      <td>1</td>\n",
       "      <td>...</td>\n",
       "      <td>0</td>\n",
       "      <td>0</td>\n",
       "      <td>0</td>\n",
       "      <td>0</td>\n",
       "      <td>0</td>\n",
       "      <td>0</td>\n",
       "      <td>0</td>\n",
       "      <td>0</td>\n",
       "      <td>0</td>\n",
       "      <td>1</td>\n",
       "    </tr>\n",
       "    <tr>\n",
       "      <th>4</th>\n",
       "      <td>0</td>\n",
       "      <td>0</td>\n",
       "      <td>1</td>\n",
       "      <td>0</td>\n",
       "      <td>1.00</td>\n",
       "      <td>0.75</td>\n",
       "      <td>1</td>\n",
       "      <td>0</td>\n",
       "      <td>0</td>\n",
       "      <td>0</td>\n",
       "      <td>...</td>\n",
       "      <td>0</td>\n",
       "      <td>0</td>\n",
       "      <td>0</td>\n",
       "      <td>0</td>\n",
       "      <td>1</td>\n",
       "      <td>0</td>\n",
       "      <td>1</td>\n",
       "      <td>0</td>\n",
       "      <td>0</td>\n",
       "      <td>0</td>\n",
       "    </tr>\n",
       "  </tbody>\n",
       "</table>\n",
       "<p>5 rows × 26 columns</p>\n",
       "</div>"
      ],
      "text/plain": [
       "   Metier_Data architecte  Metier_Data engineer  Metier_Data scientist  \\\n",
       "0                       0                     0                      1   \n",
       "1                       1                     0                      0   \n",
       "2                       0                     0                      0   \n",
       "3                       0                     0                      1   \n",
       "4                       0                     0                      1   \n",
       "\n",
       "   Metier_Lead data scientist  Diplome  Exp_label  Python  R  SQL  Java ...  \\\n",
       "0                           0     0.75       0.25       1  0    0     0 ...   \n",
       "1                           0     0.75       0.50       1  0    0     1 ...   \n",
       "2                           1     0.75       0.50       1  1    1     0 ...   \n",
       "3                           0     0.75       0.50       1  0    0     1 ...   \n",
       "4                           0     1.00       0.75       1  0    0     0 ...   \n",
       "\n",
       "   VBA  machine learning  SAS  Docker  Matlab  Hive  Tensorflow  \\\n",
       "0    0                 0    0       0       1     0           1   \n",
       "1    0                 0    0       0       0     0           0   \n",
       "2    0                 0    0       0       0     0           1   \n",
       "3    0                 0    0       0       0     0           0   \n",
       "4    0                 0    0       0       1     0           1   \n",
       "\n",
       "   Elasticsearch  Big data  C  \n",
       "0              0         0  0  \n",
       "1              0         0  0  \n",
       "2              0         0  0  \n",
       "3              0         0  1  \n",
       "4              0         0  0  \n",
       "\n",
       "[5 rows x 26 columns]"
      ]
     },
     "execution_count": 739,
     "metadata": {},
     "output_type": "execute_result"
    }
   ],
   "source": [
    "df_to_sum = (df_metier, df_diplome, df_exp_label, df_technologies)\n",
    "df_clustering = pd.concat(df_to_sum, axis = 1)\n",
    "df_clustering.head()"
   ]
  },
  {
   "cell_type": "markdown",
   "metadata": {},
   "source": [
    "### Clustering\n",
    "J’ai décidé d’implémenter une simple version de kmeans avec K=2 et méthode pour initialisation: ‘k-means++’. Les autres paramètres sont laissés comme default."
   ]
  },
  {
   "cell_type": "code",
   "execution_count": 740,
   "metadata": {},
   "outputs": [],
   "source": [
    "# implementation de kmeans from sklearn\n",
    "from sklearn.cluster import KMeans\n",
    "kmeans = KMeans(n_clusters=2, init=\"k-means++\")\n",
    "kmeans.fit(df_clustering)\n",
    "# liste de labels du cluster apres fit\n",
    "predicted_clusters = kmeans.fit_predict(df_clustering)"
   ]
  },
  {
   "cell_type": "code",
   "execution_count": 741,
   "metadata": {},
   "outputs": [
    {
     "name": "stdout",
     "output_type": "stream",
     "text": [
      "Columns: centroid number. Rows: mean distance of the points in a cluster.\n"
     ]
    },
    {
     "data": {
      "text/html": [
       "<div>\n",
       "<style scoped>\n",
       "    .dataframe tbody tr th:only-of-type {\n",
       "        vertical-align: middle;\n",
       "    }\n",
       "\n",
       "    .dataframe tbody tr th {\n",
       "        vertical-align: top;\n",
       "    }\n",
       "\n",
       "    .dataframe thead th {\n",
       "        text-align: right;\n",
       "    }\n",
       "</style>\n",
       "<table border=\"1\" class=\"dataframe\">\n",
       "  <thead>\n",
       "    <tr style=\"text-align: right;\">\n",
       "      <th></th>\n",
       "      <th>0</th>\n",
       "      <th>1</th>\n",
       "    </tr>\n",
       "  </thead>\n",
       "  <tbody>\n",
       "    <tr>\n",
       "      <th>0</th>\n",
       "      <td>1.557151</td>\n",
       "      <td>2.269348</td>\n",
       "    </tr>\n",
       "    <tr>\n",
       "      <th>1</th>\n",
       "      <td>2.287915</td>\n",
       "      <td>1.568973</td>\n",
       "    </tr>\n",
       "  </tbody>\n",
       "</table>\n",
       "</div>"
      ],
      "text/plain": [
       "          0         1\n",
       "0  1.557151  2.269348\n",
       "1  2.287915  1.568973"
      ]
     },
     "execution_count": 741,
     "metadata": {},
     "output_type": "execute_result"
    }
   ],
   "source": [
    "# centroids\n",
    "centroids = kmeans.cluster_centers_\n",
    "\n",
    "from scipy.spatial import distance_matrix\n",
    "\n",
    "# matrix avec disances de centroids\n",
    "dist_mat = pd.DataFrame(distance_matrix(df_clustering.values, centroids))\n",
    "# distance moyenne de centroids\n",
    "print(\"Columns: centroid number. Rows: mean distance of the points in a cluster.\")\n",
    "dist_mat.groupby(predicted_clusters).mean()\n",
    "\n"
   ]
  },
  {
   "cell_type": "code",
   "execution_count": 742,
   "metadata": {},
   "outputs": [
    {
     "data": {
      "text/html": [
       "<div>\n",
       "<style scoped>\n",
       "    .dataframe tbody tr th:only-of-type {\n",
       "        vertical-align: middle;\n",
       "    }\n",
       "\n",
       "    .dataframe tbody tr th {\n",
       "        vertical-align: top;\n",
       "    }\n",
       "\n",
       "    .dataframe thead th {\n",
       "        text-align: right;\n",
       "    }\n",
       "</style>\n",
       "<table border=\"1\" class=\"dataframe\">\n",
       "  <thead>\n",
       "    <tr style=\"text-align: right;\">\n",
       "      <th></th>\n",
       "      <th>Metier_Data architecte</th>\n",
       "      <th>Metier_Data engineer</th>\n",
       "      <th>Metier_Data scientist</th>\n",
       "      <th>Metier_Lead data scientist</th>\n",
       "      <th>Diplome</th>\n",
       "      <th>Exp_label</th>\n",
       "      <th>Python</th>\n",
       "      <th>R</th>\n",
       "      <th>SQL</th>\n",
       "      <th>Java</th>\n",
       "      <th>...</th>\n",
       "      <th>machine learning</th>\n",
       "      <th>SAS</th>\n",
       "      <th>Docker</th>\n",
       "      <th>Matlab</th>\n",
       "      <th>Hive</th>\n",
       "      <th>Tensorflow</th>\n",
       "      <th>Elasticsearch</th>\n",
       "      <th>Big data</th>\n",
       "      <th>C</th>\n",
       "      <th>Cluster</th>\n",
       "    </tr>\n",
       "  </thead>\n",
       "  <tbody>\n",
       "    <tr>\n",
       "      <th>0</th>\n",
       "      <td>0</td>\n",
       "      <td>0</td>\n",
       "      <td>1</td>\n",
       "      <td>0</td>\n",
       "      <td>0.75</td>\n",
       "      <td>0.25</td>\n",
       "      <td>1</td>\n",
       "      <td>0</td>\n",
       "      <td>0</td>\n",
       "      <td>0</td>\n",
       "      <td>...</td>\n",
       "      <td>0</td>\n",
       "      <td>0</td>\n",
       "      <td>0</td>\n",
       "      <td>1</td>\n",
       "      <td>0</td>\n",
       "      <td>1</td>\n",
       "      <td>0</td>\n",
       "      <td>0</td>\n",
       "      <td>0</td>\n",
       "      <td>1</td>\n",
       "    </tr>\n",
       "    <tr>\n",
       "      <th>1</th>\n",
       "      <td>1</td>\n",
       "      <td>0</td>\n",
       "      <td>0</td>\n",
       "      <td>0</td>\n",
       "      <td>0.75</td>\n",
       "      <td>0.50</td>\n",
       "      <td>1</td>\n",
       "      <td>0</td>\n",
       "      <td>0</td>\n",
       "      <td>1</td>\n",
       "      <td>...</td>\n",
       "      <td>0</td>\n",
       "      <td>0</td>\n",
       "      <td>0</td>\n",
       "      <td>0</td>\n",
       "      <td>0</td>\n",
       "      <td>0</td>\n",
       "      <td>0</td>\n",
       "      <td>0</td>\n",
       "      <td>0</td>\n",
       "      <td>0</td>\n",
       "    </tr>\n",
       "    <tr>\n",
       "      <th>2</th>\n",
       "      <td>0</td>\n",
       "      <td>0</td>\n",
       "      <td>0</td>\n",
       "      <td>1</td>\n",
       "      <td>0.75</td>\n",
       "      <td>0.50</td>\n",
       "      <td>1</td>\n",
       "      <td>1</td>\n",
       "      <td>1</td>\n",
       "      <td>0</td>\n",
       "      <td>...</td>\n",
       "      <td>0</td>\n",
       "      <td>0</td>\n",
       "      <td>0</td>\n",
       "      <td>0</td>\n",
       "      <td>0</td>\n",
       "      <td>1</td>\n",
       "      <td>0</td>\n",
       "      <td>0</td>\n",
       "      <td>0</td>\n",
       "      <td>1</td>\n",
       "    </tr>\n",
       "    <tr>\n",
       "      <th>3</th>\n",
       "      <td>0</td>\n",
       "      <td>0</td>\n",
       "      <td>1</td>\n",
       "      <td>0</td>\n",
       "      <td>0.75</td>\n",
       "      <td>0.50</td>\n",
       "      <td>1</td>\n",
       "      <td>0</td>\n",
       "      <td>0</td>\n",
       "      <td>1</td>\n",
       "      <td>...</td>\n",
       "      <td>0</td>\n",
       "      <td>0</td>\n",
       "      <td>0</td>\n",
       "      <td>0</td>\n",
       "      <td>0</td>\n",
       "      <td>0</td>\n",
       "      <td>0</td>\n",
       "      <td>0</td>\n",
       "      <td>1</td>\n",
       "      <td>1</td>\n",
       "    </tr>\n",
       "    <tr>\n",
       "      <th>4</th>\n",
       "      <td>0</td>\n",
       "      <td>0</td>\n",
       "      <td>1</td>\n",
       "      <td>0</td>\n",
       "      <td>1.00</td>\n",
       "      <td>0.75</td>\n",
       "      <td>1</td>\n",
       "      <td>0</td>\n",
       "      <td>0</td>\n",
       "      <td>0</td>\n",
       "      <td>...</td>\n",
       "      <td>0</td>\n",
       "      <td>0</td>\n",
       "      <td>0</td>\n",
       "      <td>1</td>\n",
       "      <td>0</td>\n",
       "      <td>1</td>\n",
       "      <td>0</td>\n",
       "      <td>0</td>\n",
       "      <td>0</td>\n",
       "      <td>1</td>\n",
       "    </tr>\n",
       "  </tbody>\n",
       "</table>\n",
       "<p>5 rows × 27 columns</p>\n",
       "</div>"
      ],
      "text/plain": [
       "   Metier_Data architecte  Metier_Data engineer  Metier_Data scientist  \\\n",
       "0                       0                     0                      1   \n",
       "1                       1                     0                      0   \n",
       "2                       0                     0                      0   \n",
       "3                       0                     0                      1   \n",
       "4                       0                     0                      1   \n",
       "\n",
       "   Metier_Lead data scientist  Diplome  Exp_label  Python  R  SQL  Java  \\\n",
       "0                           0     0.75       0.25       1  0    0     0   \n",
       "1                           0     0.75       0.50       1  0    0     1   \n",
       "2                           1     0.75       0.50       1  1    1     0   \n",
       "3                           0     0.75       0.50       1  0    0     1   \n",
       "4                           0     1.00       0.75       1  0    0     0   \n",
       "\n",
       "    ...     machine learning  SAS  Docker  Matlab  Hive  Tensorflow  \\\n",
       "0   ...                    0    0       0       1     0           1   \n",
       "1   ...                    0    0       0       0     0           0   \n",
       "2   ...                    0    0       0       0     0           1   \n",
       "3   ...                    0    0       0       0     0           0   \n",
       "4   ...                    0    0       0       1     0           1   \n",
       "\n",
       "   Elasticsearch  Big data  C  Cluster  \n",
       "0              0         0  0        1  \n",
       "1              0         0  0        0  \n",
       "2              0         0  0        1  \n",
       "3              0         0  1        1  \n",
       "4              0         0  0        1  \n",
       "\n",
       "[5 rows x 27 columns]"
      ]
     },
     "execution_count": 742,
     "metadata": {},
     "output_type": "execute_result"
    }
   ],
   "source": [
    "# ajouter label du cluster au dataframe avec nouvelle colonne\n",
    "df_clustering['Cluster'] = pd.Series(predicted_clusters, index=df.index)\n",
    "df_clustering.head()"
   ]
  },
  {
   "cell_type": "markdown",
   "metadata": {},
   "source": [
    "#### Résultats et interprétation\n",
    "On peut calculer pour chaque variable combien d’exemples sont attribué au cluster 1 or cluster 0 et évaluer la puissance discriminante des variables différentes."
   ]
  },
  {
   "cell_type": "code",
   "execution_count": 743,
   "metadata": {},
   "outputs": [
    {
     "data": {
      "text/html": [
       "<div>\n",
       "<style scoped>\n",
       "    .dataframe tbody tr th:only-of-type {\n",
       "        vertical-align: middle;\n",
       "    }\n",
       "\n",
       "    .dataframe tbody tr th {\n",
       "        vertical-align: top;\n",
       "    }\n",
       "\n",
       "    .dataframe thead th {\n",
       "        text-align: right;\n",
       "    }\n",
       "</style>\n",
       "<table border=\"1\" class=\"dataframe\">\n",
       "  <thead>\n",
       "    <tr style=\"text-align: right;\">\n",
       "      <th></th>\n",
       "      <th>Metier_Data architecte</th>\n",
       "      <th>Metier_Data engineer</th>\n",
       "      <th>Metier_Data scientist</th>\n",
       "      <th>Metier_Lead data scientist</th>\n",
       "      <th>Diplome</th>\n",
       "      <th>Exp_label</th>\n",
       "      <th>Python</th>\n",
       "      <th>R</th>\n",
       "      <th>SQL</th>\n",
       "      <th>Java</th>\n",
       "      <th>...</th>\n",
       "      <th>VBA</th>\n",
       "      <th>machine learning</th>\n",
       "      <th>SAS</th>\n",
       "      <th>Docker</th>\n",
       "      <th>Matlab</th>\n",
       "      <th>Hive</th>\n",
       "      <th>Tensorflow</th>\n",
       "      <th>Elasticsearch</th>\n",
       "      <th>Big data</th>\n",
       "      <th>C</th>\n",
       "    </tr>\n",
       "    <tr>\n",
       "      <th>Cluster</th>\n",
       "      <th></th>\n",
       "      <th></th>\n",
       "      <th></th>\n",
       "      <th></th>\n",
       "      <th></th>\n",
       "      <th></th>\n",
       "      <th></th>\n",
       "      <th></th>\n",
       "      <th></th>\n",
       "      <th></th>\n",
       "      <th></th>\n",
       "      <th></th>\n",
       "      <th></th>\n",
       "      <th></th>\n",
       "      <th></th>\n",
       "      <th></th>\n",
       "      <th></th>\n",
       "      <th></th>\n",
       "      <th></th>\n",
       "      <th></th>\n",
       "      <th></th>\n",
       "    </tr>\n",
       "  </thead>\n",
       "  <tbody>\n",
       "    <tr>\n",
       "      <th>0</th>\n",
       "      <td>0.472</td>\n",
       "      <td>0.521</td>\n",
       "      <td>0.000</td>\n",
       "      <td>0.005</td>\n",
       "      <td>0.642</td>\n",
       "      <td>0.590</td>\n",
       "      <td>0.496</td>\n",
       "      <td>0.000</td>\n",
       "      <td>0.106</td>\n",
       "      <td>0.329</td>\n",
       "      <td>...</td>\n",
       "      <td>0.000</td>\n",
       "      <td>0.000</td>\n",
       "      <td>0.000</td>\n",
       "      <td>0.206</td>\n",
       "      <td>0.000</td>\n",
       "      <td>0.145</td>\n",
       "      <td>0.000</td>\n",
       "      <td>0.184</td>\n",
       "      <td>0.000</td>\n",
       "      <td>0.070</td>\n",
       "    </tr>\n",
       "    <tr>\n",
       "      <th>1</th>\n",
       "      <td>0.000</td>\n",
       "      <td>0.000</td>\n",
       "      <td>0.761</td>\n",
       "      <td>0.237</td>\n",
       "      <td>0.793</td>\n",
       "      <td>0.612</td>\n",
       "      <td>0.865</td>\n",
       "      <td>0.861</td>\n",
       "      <td>0.414</td>\n",
       "      <td>0.047</td>\n",
       "      <td>...</td>\n",
       "      <td>0.197</td>\n",
       "      <td>0.196</td>\n",
       "      <td>0.186</td>\n",
       "      <td>0.000</td>\n",
       "      <td>0.171</td>\n",
       "      <td>0.042</td>\n",
       "      <td>0.167</td>\n",
       "      <td>0.000</td>\n",
       "      <td>0.162</td>\n",
       "      <td>0.083</td>\n",
       "    </tr>\n",
       "  </tbody>\n",
       "</table>\n",
       "<p>2 rows × 26 columns</p>\n",
       "</div>"
      ],
      "text/plain": [
       "         Metier_Data architecte  Metier_Data engineer  Metier_Data scientist  \\\n",
       "Cluster                                                                        \n",
       "0                         0.472                 0.521                  0.000   \n",
       "1                         0.000                 0.000                  0.761   \n",
       "\n",
       "         Metier_Lead data scientist  Diplome  Exp_label  Python      R    SQL  \\\n",
       "Cluster                                                                         \n",
       "0                             0.005    0.642      0.590   0.496  0.000  0.106   \n",
       "1                             0.237    0.793      0.612   0.865  0.861  0.414   \n",
       "\n",
       "          Java  ...      VBA  machine learning    SAS  Docker  Matlab   Hive  \\\n",
       "Cluster         ...                                                            \n",
       "0        0.329  ...    0.000             0.000  0.000   0.206   0.000  0.145   \n",
       "1        0.047  ...    0.197             0.196  0.186   0.000   0.171  0.042   \n",
       "\n",
       "         Tensorflow  Elasticsearch  Big data      C  \n",
       "Cluster                                              \n",
       "0             0.000          0.184     0.000  0.070  \n",
       "1             0.167          0.000     0.162  0.083  \n",
       "\n",
       "[2 rows x 26 columns]"
      ]
     },
     "execution_count": 743,
     "metadata": {},
     "output_type": "execute_result"
    }
   ],
   "source": [
    "# dataframe avec valeur moyenne des variables dans chanque cluster\n",
    "kmeans_mean_cluster = pd.DataFrame(round(df_clustering.groupby('Cluster').mean(),3))\n",
    "kmeans_mean_cluster.head()"
   ]
  },
  {
   "cell_type": "markdown",
   "metadata": {},
   "source": [
    "On obtient que le premier cluster contient Data engineer et Data achitecht presque exclusivement. Le deuxième cluster contient tous les Data scientist et la majorité de Lead data scientist. Le niveau de diplôme et expérience n’ont pas un fort pouvoir discriminant mais les valeurs sont légèrement plus hauts dans la catégorie contenant les data scientist, ça est probablement dû au fait qu’il n’y a pas de débutants parmi les Lead data scientists. Python, R et SQL aussi que machine learning sont plus utilisé dans le cluster de Data scientist ; l’autre cluster préfère Java et Hadoop. "
   ]
  },
  {
   "cell_type": "code",
   "execution_count": 744,
   "metadata": {
    "scrolled": false
   },
   "outputs": [
    {
     "name": "stdout",
     "output_type": "stream",
     "text": [
      "La classe 0 contient  4501  profils\n",
      "La classe 1 contient  5081  profils\n"
     ]
    }
   ],
   "source": [
    "from collections import Counter\n",
    "print(\"La classe 0 contient \", Counter(kmeans.labels_)[0], \" profils\")\n",
    "print(\"La classe 1 contient \", Counter(kmeans.labels_)[1], \" profils\")"
   ]
  },
  {
   "cell_type": "markdown",
   "metadata": {},
   "source": [
    "### 9) Réaliser la prédiction des métiers manquants dans la base de données par l'algorithme de votre choix\n",
    "-  Justifier la performance de votre algorithme grace à une métrique.\n",
    "-  Interpréter votre resultat. \n",
    "\n",
    "Avec le but de prédire les métiers manquants on utilise l’algorithme de classification Random Forest. La division entre training set et test set est de 70%-30%. On décide d’utiliser les mêmes variables qu’on a traités pour Kmeans : les 20 technologies les plus populaires, le diplôme et le niveau d’expérience."
   ]
  },
  {
   "cell_type": "code",
   "execution_count": 745,
   "metadata": {},
   "outputs": [],
   "source": [
    "from sklearn.ensemble import RandomForestClassifier\n",
    "from sklearn.model_selection import train_test_split\n",
    "from sklearn import metrics"
   ]
  },
  {
   "cell_type": "code",
   "execution_count": 746,
   "metadata": {},
   "outputs": [],
   "source": [
    "# Processing des données \n",
    "df_to_sum = (df[[\"Metier\"]], df_diplome, df_exp_label, df_technologies)\n",
    "df_all = pd.concat(df_to_sum, axis = 1)\n",
    "\n",
    "# Remove NaN dans 'Metier' et conversion en int\n",
    "df_totrain = df_all.loc[~df['Metier'].isnull()]\n",
    "map_metier = {\"Data architecte\":0, \"Data engineer\":1, \"Data scientist\":2, \"Lead data scientist\":3}\n",
    "df_Y = df_totrain[[\"Metier\"]].replace(map_metier).astype(int)\n",
    "df_X = df_totrain.drop(['Metier'], axis=1)\n",
    "\n",
    "\n",
    "# NaN Metiers à predire\n",
    "df_topredict = df_all.loc[df['Metier'].isnull()]\n",
    "df_Y_topredict = df_topredict.drop(['Metier'], axis=1)\n",
    "\n",
    "X_train, X_test, Y_train, Y_test = train_test_split(df_X, df_Y.squeeze(), test_size = 0.3, random_state = 0)"
   ]
  },
  {
   "cell_type": "code",
   "execution_count": 747,
   "metadata": {},
   "outputs": [
    {
     "data": {
      "text/plain": [
       "RandomForestClassifier(bootstrap=True, class_weight=None, criterion='gini',\n",
       "            max_depth=None, max_features='auto', max_leaf_nodes=None,\n",
       "            min_impurity_decrease=0.0, min_impurity_split=None,\n",
       "            min_samples_leaf=1, min_samples_split=2,\n",
       "            min_weight_fraction_leaf=0.0, n_estimators=10, n_jobs=1,\n",
       "            oob_score=False, random_state=None, verbose=0,\n",
       "            warm_start=False)"
      ]
     },
     "execution_count": 747,
     "metadata": {},
     "output_type": "execute_result"
    }
   ],
   "source": [
    "# Choice du modèle et entraînement\n",
    "logisiticmodel = LogisticRegression(solver = \"newton-cg\", multi_class = \"multinomial\")\n",
    "\n",
    "# Random Forest Classifier\n",
    "RFC = RandomForestClassifier()\n",
    "RFC.fit(X_train, Y_train)\n",
    "\n",
    "RandomForestClassifier()"
   ]
  },
  {
   "cell_type": "code",
   "execution_count": 748,
   "metadata": {},
   "outputs": [
    {
     "name": "stdout",
     "output_type": "stream",
     "text": [
      "Resultats du modele: Accuracy =  85.0 %\n"
     ]
    }
   ],
   "source": [
    "# Métriques performances\n",
    "RFC.score(X_test,Y_test)\n",
    "predictions = RFC.predict(X_test)\n",
    "score = RFC.score(X_test, Y_test)\n",
    "\n",
    "print(\"Resultats du modele: Accuracy = \", 100*round(score,2), \"%\")"
   ]
  },
  {
   "cell_type": "markdown",
   "metadata": {},
   "source": [
    "#### Résultats du modelé\n",
    "On obtient une bonne accuracy globalement, ajouter plus technologies pourrait ameliorer les resultats. \n",
    "On observe que le modelé n’arrive pas à distinguer parfaitement les métiers de Data architecte et Data engineer : plusieurs technologies sont communes entre les deux profils et aussi les autres variables ne sont pas très discriminantes. La même chose est observée entre Data scientist et Lead data scientist : les deux profils sont très similaires, la discrimination vient du niveaux d’expérience."
   ]
  },
  {
   "cell_type": "code",
   "execution_count": 749,
   "metadata": {},
   "outputs": [
    {
     "data": {
      "text/html": [
       "<div>\n",
       "<style scoped>\n",
       "    .dataframe tbody tr th:only-of-type {\n",
       "        vertical-align: middle;\n",
       "    }\n",
       "\n",
       "    .dataframe tbody tr th {\n",
       "        vertical-align: top;\n",
       "    }\n",
       "\n",
       "    .dataframe thead th {\n",
       "        text-align: right;\n",
       "    }\n",
       "</style>\n",
       "<table border=\"1\" class=\"dataframe\">\n",
       "  <thead>\n",
       "    <tr style=\"text-align: right;\">\n",
       "      <th></th>\n",
       "      <th>Data architecte</th>\n",
       "      <th>Data engineer</th>\n",
       "      <th>Data scientist</th>\n",
       "      <th>Lead data scientist</th>\n",
       "    </tr>\n",
       "  </thead>\n",
       "  <tbody>\n",
       "    <tr>\n",
       "      <th>Data architecte</th>\n",
       "      <td>539</td>\n",
       "      <td>75</td>\n",
       "      <td>10</td>\n",
       "      <td>0</td>\n",
       "    </tr>\n",
       "    <tr>\n",
       "      <th>Data engineer</th>\n",
       "      <td>32</td>\n",
       "      <td>676</td>\n",
       "      <td>0</td>\n",
       "      <td>0</td>\n",
       "    </tr>\n",
       "    <tr>\n",
       "      <th>Data scientist</th>\n",
       "      <td>3</td>\n",
       "      <td>0</td>\n",
       "      <td>1067</td>\n",
       "      <td>96</td>\n",
       "    </tr>\n",
       "    <tr>\n",
       "      <th>Lead data scientist</th>\n",
       "      <td>1</td>\n",
       "      <td>0</td>\n",
       "      <td>201</td>\n",
       "      <td>169</td>\n",
       "    </tr>\n",
       "  </tbody>\n",
       "</table>\n",
       "</div>"
      ],
      "text/plain": [
       "                     Data architecte  Data engineer  Data scientist  \\\n",
       "Data architecte                  539             75              10   \n",
       "Data engineer                     32            676               0   \n",
       "Data scientist                     3              0            1067   \n",
       "Lead data scientist                1              0             201   \n",
       "\n",
       "                     Lead data scientist  \n",
       "Data architecte                        0  \n",
       "Data engineer                          0  \n",
       "Data scientist                        96  \n",
       "Lead data scientist                  169  "
      ]
     },
     "execution_count": 749,
     "metadata": {},
     "output_type": "execute_result"
    }
   ],
   "source": [
    "# visualisation des resultats avec confusion matrix\n",
    "confusion_matrix = metrics.confusion_matrix(Y_test, predictions)\n",
    "confusion_matrix_df = pd.DataFrame(data = confusion_matrix,\n",
    "                                   columns = code_meanings,\n",
    "                                   index = code_meanings)\n",
    "confusion_matrix_df"
   ]
  },
  {
   "cell_type": "markdown",
   "metadata": {},
   "source": [
    "La variable plus discriminante est la technologie R : il n’y a pas de Data engineers et Data achitectes qui utilisent cette technologie. Le niveau d’expérience est aussi discriminante pour distinguer Data scientist de Lead data scientist."
   ]
  },
  {
   "cell_type": "code",
   "execution_count": 750,
   "metadata": {
    "scrolled": true
   },
   "outputs": [
    {
     "data": {
      "image/png": "[encoded data removed]",
      "text/plain": [
       "<Figure size 432x288 with 1 Axes>"
      ]
     },
     "metadata": {},
     "output_type": "display_data"
    }
   ],
   "source": [
    "# feature importance\n",
    "RFC.feature_importances_\n",
    "plt.barh(df_X.columns, RFC.feature_importances_)\n",
    "plt.xlabel(\"Feature importance\")\n",
    "plt.show()"
   ]
  },
  {
   "cell_type": "code",
   "execution_count": 751,
   "metadata": {},
   "outputs": [
    {
     "data": {
      "image/png": "[encoded data removed]",
      "text/plain": [
       "<Figure size 432x288 with 1 Axes>"
      ]
     },
     "metadata": {},
     "output_type": "display_data"
    }
   ],
   "source": [
    "# Metiers regoupés by technologie R\n",
    "df_R = df_totrain.groupby([\"Metier\"])[\"R\"].sum()\n",
    "df_R.head()\n",
    "df_R.plot(kind='barh',x='Metier',y='R', legend=False )\n",
    "plt.ylabel(\"Type de Metier\")\n",
    "plt.xlabel(\"Profils qui utilisent R\")\n",
    "plt.show()"
   ]
  },
  {
   "cell_type": "code",
   "execution_count": 752,
   "metadata": {},
   "outputs": [
    {
     "data": {
      "image/png": "[encoded data removed]",
      "text/plain": [
       "<Figure size 432x288 with 1 Axes>"
      ]
     },
     "metadata": {},
     "output_type": "display_data"
    }
   ],
   "source": [
    "# Metiers regoupés by Exp_label\n",
    "df_Exp_label = df_totrain.groupby([\"Metier\"])[\"Exp_label\"].mean()\n",
    "df_Exp_label.head()\n",
    "df_Exp_label.plot(kind='barh',x='Metier',y='Exp_label', legend=False )\n",
    "plt.ylabel(\"Type de Metier\")\n",
    "plt.xlabel(\"Exp_label\")\n",
    "plt.show()"
   ]
  }
 ],
 "metadata": {
  "kernelspec": {
   "display_name": "Python 3",
   "language": "python",
   "name": "python3"
  },
  "language_info": {
   "codemirror_mode": {
    "name": "ipython",
    "version": 3
   },
   "file_extension": ".py",
   "mimetype": "text/x-python",
   "name": "python",
   "nbconvert_exporter": "python",
   "pygments_lexer": "ipython3",
   "version": "3.7.9"
  }
 },
 "nbformat": 4,
 "nbformat_minor": 2
}
